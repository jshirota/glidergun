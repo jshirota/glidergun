{
 "cells": [
  {
   "cell_type": "code",
   "execution_count": null,
   "metadata": {},
   "outputs": [],
   "source": [
    "from glidergun import grid, mosaic\n",
    "\n",
    "dem1 = grid(\".data/n55_e008_1arc_v3.bil\")\n",
    "dem2 = grid(\".data/n55_e009_1arc_v3.bil\")\n",
    "\n",
    "dem = mosaic(dem1, dem2)\n",
    "hillshade = dem.hillshade()\n",
    "\n",
    "# hillshade.save(\".output/hillshade.tif\", \"uint8\")\n",
    "# hillshade.save(\".output/hillshade.png\")\n",
    "# hillshade.save(\".output/hillshade.kmz\")\n",
    "\n",
    "dem, hillshade"
   ]
  },
  {
   "cell_type": "code",
   "execution_count": null,
   "metadata": {},
   "outputs": [],
   "source": [
    "from glidergun import grid\n",
    "\n",
    "band4 = grid(\".data/LC08_L2SP_197021_20220324_20220330_02_T1_SR_B4.TIF\")\n",
    "band5 = grid(\".data/LC08_L2SP_197021_20220324_20220330_02_T1_SR_B5.TIF\")\n",
    "\n",
    "ndvi = (band5 - band4) / (band5 + band4)\n",
    "\n",
    "ndvi.color(\"gist_earth\")"
   ]
  },
  {
   "cell_type": "code",
   "execution_count": null,
   "metadata": {},
   "outputs": [],
   "source": [
    "from glidergun import animate, grid\n",
    "\n",
    "\n",
    "def tick(g):\n",
    "    count = g.focal_sum() - g\n",
    "    return (g == 1) & (count == 2) | (count == 3)\n",
    "\n",
    "\n",
    "def simulate(g):\n",
    "    md5s = set()\n",
    "    while g.md5 not in md5s:\n",
    "        md5s.add(g.md5)\n",
    "        yield -(g := tick(g))\n",
    "\n",
    "\n",
    "seed = grid((120, 80)).randomize() < 0.5\n",
    "\n",
    "animation = animate(simulate(seed), interval=40)\n",
    "\n",
    "# animation.save(\"game_of_life.gif\")\n",
    "\n",
    "animation"
   ]
  },
  {
   "cell_type": "code",
   "execution_count": null,
   "metadata": {},
   "outputs": [],
   "source": []
  },
  {
   "cell_type": "code",
   "execution_count": null,
   "metadata": {},
   "outputs": [],
   "source": []
  },
  {
   "cell_type": "code",
   "execution_count": null,
   "metadata": {},
   "outputs": [],
   "source": []
  }
 ],
 "metadata": {
  "kernelspec": {
   "display_name": ".venv",
   "language": "python",
   "name": "python3"
  },
  "language_info": {
   "codemirror_mode": {
    "name": "ipython",
    "version": 3
   },
   "file_extension": ".py",
   "mimetype": "text/x-python",
   "name": "python",
   "nbconvert_exporter": "python",
   "pygments_lexer": "ipython3",
   "version": "3.12.7"
  }
 },
 "nbformat": 4,
 "nbformat_minor": 2
}
